{
 "cells": [
  {
   "cell_type": "markdown",
   "metadata": {},
   "source": [
    "# 第14周作业 = 类和对象\n",
    "\n",
    "- 提交文件命名\n",
    "    - 学号_10.ipynb \n",
    "    - 如:1234567_10.ipynb\n"
   ]
  },
  {
   "cell_type": "markdown",
   "metadata": {},
   "source": [
    "#### 题 1：定义一个Circle类，要求：\n",
    "- `__init__(self,x,y,r)`函数，定义如下属性：\n",
    "    - 圆心x\n",
    "    - 圆心y\n",
    "    - 半径r（要求半径r为保护变量，即前面只有一个下划线，为了下一个类继承，不能定义为私有类）\n",
    "- describe(self) 显示圆的信息\n",
    "- getr(self)返回r值\n",
    "- setr(self,r)设置r值\n",
    "- recent(self,x,y)重新设置圆心位置"
   ]
  },
  {
   "cell_type": "code",
   "execution_count": 13,
   "metadata": {},
   "outputs": [],
   "source": [
    "class Circle():\n",
    "    #完成代码如下\n",
    "    def __init__(self,x,y,r):\n",
    "        self.x=x\n",
    "        self.y=y\n",
    "        self._r=r\n",
    "    def describe(self):\n",
    "        print(\"Info:Center is (%s,%s) Radius=%s\"%(self.x,self.y,self._r))\n",
    "    def getr(self):\n",
    "        return self._r\n",
    "    def setr(self,r):\n",
    "        self._r=r\n",
    "    def recent(self,x,y):\n",
    "        self.x=x\n",
    "        self.y=y\n"
   ]
  },
  {
   "cell_type": "code",
   "execution_count": 6,
   "metadata": {},
   "outputs": [
    {
     "name": "stdout",
     "output_type": "stream",
     "text": [
      "Info:Center is (0,0) Radius=1\n",
      "r=1\n",
      "Info:Center is (0,0) Radius=5\n",
      "Info:Center is (2,3) Radius=5\n"
     ]
    }
   ],
   "source": [
    "# 以下为测试代码，请勿修改\n",
    "c1 = Circle(0,0,1)\n",
    "c1.describe()\n",
    "print(f\"r={c1.getr()}\")\n",
    "c1.setr(5)\n",
    "c1.describe()\n",
    "c1.recent(2,3)\n",
    "c1.describe()"
   ]
  },
  {
   "cell_type": "markdown",
   "metadata": {},
   "source": [
    "#### 题 2：定义一个椭圆类Eclipse，要求：\n",
    "- 继承自Cicle类\n",
    "- 增加另外一个半径r1,也将其定义为私有的，即__r1\n",
    "- 编写构造函数\n",
    "- describe(self) 显示椭圆的信息\n",
    "- getr(self)返回两个r值，用元组的形式\n",
    "- setr(self,r,r1)设置两个半径值\n",
    "- recent(self,x,y)重新设置椭圆中心位置"
   ]
  },
  {
   "cell_type": "code",
   "execution_count": 5,
   "metadata": {},
   "outputs": [],
   "source": [
    "class Eclipse(Circle):\n",
    "    #完成代码如下\n",
    "    def __init__(self,x,y,r,r1):\n",
    "        super().__init__(x,y,r)\n",
    "        self._r1=r1\n",
    "    def describe(self):\n",
    "        print(\"Info:Center is (%s,%s) Radius=(%s,%s)\"%(self.x,self.y,self._r,self._r1))\n",
    "    def getr(self):\n",
    "        return (self._r,self._r1)\n",
    "    def setr(self,r,r1):\n",
    "        self._r=r\n",
    "        self._r1=r1\n",
    "    def recent(self,x,y):\n",
    "        self.x=x\n",
    "        self.y=y"
   ]
  },
  {
   "cell_type": "code",
   "execution_count": 6,
   "metadata": {},
   "outputs": [
    {
     "name": "stdout",
     "output_type": "stream",
     "text": [
      "Info:Center is (0,0) Radius=(1,2)\n",
      "(1, 2)\n",
      "Info:Center is (3,2) Radius=(4,5)\n"
     ]
    }
   ],
   "source": [
    "e1 = Eclipse(0,0,1,2)\n",
    "e1.describe()\n",
    "print(e1.getr())\n",
    "e1.setr(4,5)\n",
    "e1.recent(3,2)\n",
    "e1.describe()"
   ]
  },
  {
   "cell_type": "markdown",
   "metadata": {},
   "source": [
    "#### 题 3：运算符重载练习，要求：\n",
    "- 给Circle实现加法运算符重载，即用+号表示求两个圆的距离\n"
   ]
  },
  {
   "cell_type": "code",
   "execution_count": 1,
   "metadata": {},
   "outputs": [],
   "source": [
    "import math\n",
    "class Circle():\n",
    "    #完成代码如下\n",
    "    def __init__(self,x,y,r):\n",
    "        self.x=x\n",
    "        self.y=y\n",
    "        self._r=r\n",
    "    def __add__(self,other):\n",
    "        d=math.sqrt((self.x-other.x)**2+(self.y-other.y)**2)\n",
    "        print(d)\n",
    "        "
   ]
  },
  {
   "cell_type": "code",
   "execution_count": 2,
   "metadata": {},
   "outputs": [
    {
     "name": "stdout",
     "output_type": "stream",
     "text": [
      "1.4142135623730951\n"
     ]
    }
   ],
   "source": [
    "c1 = Circle(0,0,1)\n",
    "c2 = Circle(1,1,2)\n",
    "c1+c2"
   ]
  },
  {
   "cell_type": "markdown",
   "metadata": {},
   "source": [
    "#### 题 4： 思考一下，上面的Circle类，能与椭圆用+号计算距离么？\n"
   ]
  },
  {
   "cell_type": "code",
   "execution_count": 7,
   "metadata": {},
   "outputs": [
    {
     "name": "stdout",
     "output_type": "stream",
     "text": [
      "3.605551275463989\n"
     ]
    }
   ],
   "source": [
    "c1 + e1"
   ]
  },
  {
   "cell_type": "code",
   "execution_count": null,
   "metadata": {},
   "outputs": [],
   "source": []
  }
 ],
 "metadata": {
  "kernelspec": {
   "display_name": "Python 3 (ipykernel)",
   "language": "python",
   "name": "python3"
  },
  "language_info": {
   "codemirror_mode": {
    "name": "ipython",
    "version": 3
   },
   "file_extension": ".py",
   "mimetype": "text/x-python",
   "name": "python",
   "nbconvert_exporter": "python",
   "pygments_lexer": "ipython3",
   "version": "3.9.12"
  }
 },
 "nbformat": 4,
 "nbformat_minor": 4
}
