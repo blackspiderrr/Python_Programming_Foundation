{
 "cells": [
  {
   "cell_type": "markdown",
   "metadata": {},
   "source": [
    "# 第12周作业 \n",
    "\n",
    "- 提交文件命名\n",
    "    - 学号_10.ipynb \n",
    "    - 如:1234567_10.ipynb\n"
   ]
  },
  {
   "cell_type": "markdown",
   "metadata": {},
   "source": [
    "#### 题 1：定义一个游戏人物Character类，要求：\n",
    "- `__init__(self,name,attack,defence,intelligence,level,healthpoint,magicpoint)`函数，定义如下属性：\n",
    "    - 角色名字\n",
    "    - attack 攻击力=30\n",
    "    - defence 防御力=30\n",
    "    - intelligence 智力=30\n",
    "    - experience 经验=0\n",
    "    - level 等级=1\n",
    "    - healthpoint 生命值=100\n",
    "    - magicpoint 魔法值=100\n",
    "- describe(self) 显示人物所有信息\n",
    "- addexp(self) 增加经验值函数，该函数会根据经验值自动计算level等级，请确定一个经验值等级规则，\n",
    "    - 比如100 升 2级；300升 3级； 800升4级  1800升5级，规律自拟，等级越高，需要的经验值越大\n",
    "    - 等级每增长一级，攻击力、防御力、智力均提升1.1倍\n",
    "- showlevel(self) 显示等级\n",
    "- hurted(self,dhealth) 受到伤害后，生命值扣除dhealth，当点数小于0零，变成0，并输出“角色不幸阵亡！”\n"
   ]
  },
  {
   "cell_type": "code",
   "execution_count": 76,
   "metadata": {},
   "outputs": [],
   "source": [
    "class Character():\n",
    "    pass\n",
    "    #完成代码如下\n",
    "    def __init__(self,name,attack=30,defence=30,intelligence=3,level=1,healthpoint=100,magicpoint=100):\n",
    "        self.name=name\n",
    "        self.attack=attack\n",
    "        self.defence=defence\n",
    "        self.intelligence=intelligence\n",
    "        self.experience=0\n",
    "        self.level=level\n",
    "        self.healthpoint=healthpoint\n",
    "        self.magicpoint=magicpoint\n",
    "        \n",
    "    def describe(self):\n",
    "        information=\"该人物名字是\"+self.name+\"，他的攻击力是\"+str(self.attack)+\"，他的防御力是\"+str(self.defence)+ \\\n",
    "        \"，他的智力是\"+str(self.intelligence)+\"，他的经验是\"+str(self.experience)+\"，他的等级是\"+str(self.level)+ \\\n",
    "        \"，他的生命值是\"+str(self.healthpoint)+\"，他的魔法值是\"+str(self.magicpoint)\n",
    "        print(information)\n",
    "        \n",
    "    def addexp(self):\n",
    "        for i in range(0,10000):\n",
    "            if self.experience>=5**i and self.experience<5**(i+1):\n",
    "                self.level=i\n",
    "                self.attact=self.attack*(1.1**i)\n",
    "                self.defence=self.defence*(1.1**i)\n",
    "                self.intelligence=self.intelligence*(1.1**i)\n",
    "                \n",
    "    def showlevel(self):\n",
    "        print(\"等级是\"+self.level)\n",
    "    \n",
    "    def hurted(self,dhealth):\n",
    "        self.healthpoint=self.healthpoint-dhealth\n",
    "        if self.healthpoint<0:\n",
    "            self.healthpoint=0\n",
    "            print(\"角色不幸阵亡！\")"
   ]
  },
  {
   "cell_type": "code",
   "execution_count": 71,
   "metadata": {},
   "outputs": [
    {
     "name": "stdout",
     "output_type": "stream",
     "text": [
      "该人物名字是孙悟空，他的攻击力是100，他的防御力是100，他的智力是80，他的经验是0，他的等级是1，他的生命值是100，他的魔法值是100\n",
      "该人物名字是猪八戒，他的攻击力是90，他的防御力是90，他的智力是60，他的经验是0，他的等级是1，他的生命值是100，他的魔法值是100\n"
     ]
    }
   ],
   "source": [
    "swk = Character(\"孙悟空\",100,100,80,1,100,100)\n",
    "zbj = Character(\"猪八戒\",90,90,60,1,100,100)\n",
    "swk.describe()\n",
    "zbj.describe()"
   ]
  },
  {
   "cell_type": "markdown",
   "metadata": {},
   "source": [
    "#### 题 2：定义一个宝物类Treasure类，要求：\n",
    "- `__init__(self,name,attack,defence,intelligence,experience)`函数，定义如下属性：\n",
    "    - name宝物名字\n",
    "    - attack放大倍数\n",
    "    - defence防御力放大倍数\n",
    "    - intelligence智力放大倍数\n",
    "    - experience 经验值增加\n",
    "- describe(self) 显示宝物所有信息"
   ]
  },
  {
   "cell_type": "code",
   "execution_count": 91,
   "metadata": {},
   "outputs": [],
   "source": [
    "class Treasure():\n",
    "    pass\n",
    "    def __init__(self,name,attack,defence,intelligence,experience):\n",
    "        self.name=name\n",
    "        self.attack=attack\n",
    "        self.defence=defence\n",
    "        self.intelligence=intelligence\n",
    "        self.experience=experience\n",
    "    def describe(self):\n",
    "        information=\"该宝物名字是\"+self.name+\"，它使攻击力放大\"+str(self.attack)+\"倍，它使防御力放大\"+str(self.defence)+ \\\n",
    "        \"倍，它使智力放大\"+str(self.intelligence)+\"倍，它使经验值增加\"+str(self.experience)\n",
    "        print(information)"
   ]
  },
  {
   "cell_type": "code",
   "execution_count": 102,
   "metadata": {},
   "outputs": [
    {
     "name": "stdout",
     "output_type": "stream",
     "text": [
      "该宝物名字是金箍棒，它使攻击力放大1.5倍，它使防御力放大1倍，它使智力放大1倍，它使经验值增加0\n",
      "该宝物名字是护心镜，它使攻击力放大1倍，它使防御力放大1.5倍，它使智力放大1倍，它使经验值增加0\n",
      "该宝物名字是西行记，它使攻击力放大1倍，它使防御力放大1倍，它使智力放大1倍，它使经验值增加10000\n",
      "该宝物名字是道德经，它使攻击力放大1倍，它使防御力放大1倍，它使智力放大1.5倍，它使经验值增加0\n"
     ]
    }
   ],
   "source": [
    "jgb = Treasure(\"金箍棒\",1.5,1,1,0)\n",
    "hxj = Treasure(\"护心镜\",1,1.5,1,0)\n",
    "jshu = Treasure(\"西行记\",1,1,1,10000)\n",
    "ddj = Treasure(\"道德经\",1,1,1.5,0)\n",
    "\n",
    "jgb.describe()\n",
    "hxj.describe()\n",
    "jshu.describe()\n",
    "ddj.describe()"
   ]
  },
  {
   "cell_type": "markdown",
   "metadata": {},
   "source": [
    "#### 题 3：更新Character类，要求：\n",
    "- getTreasure(self,treasureobj)获得宝物，并根据宝物属性更新角色各项属性\n",
    "- showTreasure(self)展示角色有哪些宝物，以及宝物的功能\n"
   ]
  },
  {
   "cell_type": "code",
   "execution_count": 107,
   "metadata": {},
   "outputs": [],
   "source": [
    "class Character():\n",
    "    pass\n",
    "    #完成代码如下\n",
    "    def __init__(self,name,attack=30,defence=30,intelligence=3,level=1,healthpoint=100,magicpoint=100):\n",
    "        self.name=name\n",
    "        self.attack=attack\n",
    "        self.defence=defence\n",
    "        self.intelligence=intelligence\n",
    "        self.experience=0\n",
    "        self.level=level\n",
    "        self.healthpoint=healthpoint\n",
    "        self.magicpoint=magicpoint\n",
    "        \n",
    "    def getTreasure(self,treasureobj):\n",
    "        self.treasureobj=treasureobj\n",
    "        self.attack*=treasureobj.attack\n",
    "        self.defence*=treasureobj.defence\n",
    "        self.intelligence*=treasureobj.intelligence\n",
    "        self.experience+=treasureobj.experience\n",
    "        for i in range(0,10000):\n",
    "            if self.experience>=5**i and self.experience<5**(i+1):\n",
    "                self.level=i\n",
    "                self.attact=self.attack*(1.1**i)\n",
    "                self.defence=self.defence*(1.1**i)\n",
    "                self.intelligence=self.intelligence*(1.1**i)\n",
    "                \n",
    "    def describe(self):\n",
    "        information=\"该人物名字是\"+self.name+\"，他的攻击力是\"+str(self.attack)+\"，他的防御力是\"+str(self.defence)+ \\\n",
    "        \"，他的智力是\"+str(self.intelligence)+\"，他的经验是\"+str(self.experience)+\"，他的等级是\"+str(self.level)+ \\\n",
    "        \"，他的生命值是\"+str(self.healthpoint)+\"，他的魔法值是\"+str(self.magicpoint)\n",
    "        print(information)\n",
    "    \n",
    "    def showTreasure(self):\n",
    "        information=\"该人物拥有的宝物是\"+self.treasureobj.name+\"，它使攻击力放大\"+str(self.treasureobj.attack)+\"倍，它使防御力放大\"+str(self.treasureobj.defence)+ \\\n",
    "        \"倍，它使智力放大\"+str(self.treasureobj.intelligence)+\"倍，它使经验值增加\"+str(self.treasureobj.experience)\n",
    "        print(information)\n",
    "  \n",
    "        "
   ]
  },
  {
   "cell_type": "code",
   "execution_count": 108,
   "metadata": {},
   "outputs": [
    {
     "name": "stdout",
     "output_type": "stream",
     "text": [
      "该人物名字是孙悟空，他的攻击力是100，他的防御力是100，他的智力是80，他的经验是0，他的等级是1，他的生命值是100，他的魔法值是100\n",
      "该人物拥有的宝物是金箍棒，它使攻击力放大1.5倍，它使防御力放大1倍，它使智力放大1倍，它使经验值增加0\n",
      "该人物名字是孙悟空，他的攻击力是150.0，他的防御力是100，他的智力是80，他的经验是0，他的等级是1，他的生命值是100，他的魔法值是100\n"
     ]
    }
   ],
   "source": [
    "swk = Character(\"孙悟空\",100,100,80,1,100,100)\n",
    "swk.describe()\n",
    "swk.getTreasure(jgb)\n",
    "swk.showTreasure()\n",
    "swk.describe()"
   ]
  },
  {
   "cell_type": "markdown",
   "metadata": {},
   "source": [
    "#### 题 4：  编辑一个学生类\n"
   ]
  },
  {
   "cell_type": "code",
   "execution_count": 39,
   "metadata": {},
   "outputs": [],
   "source": [
    "class Student():\n",
    "    \"\"\"学生类，包含以下信息：\n",
    "    一个初始化成员函数__init__(self,name,id,sex,age,major)\n",
    "    一个描述学生信息函数describe()\n",
    "        学生的信息包括：姓名，学号，性别，年龄，专业\n",
    "    一个修改年龄的方法changeage(self,newage)\n",
    "    \"\"\"\n",
    "    pass\n",
    "    def __init__(self,name,id,sex,age,major):\n",
    "        self.name=name\n",
    "        self.id=id\n",
    "        self.sex=sex\n",
    "        self.age=age\n",
    "        self.major=major\n",
    "        \n",
    "    def describe(self):\n",
    "        information=\"学生姓名\"+self.name+\"，学号\"+str(self.id)+\"，性别\"+self.sex+\"，年龄\"+str(self.age)+\",专业\"+self.major\n",
    "        print(information)\n",
    "        \n",
    "    def changeage(self,newage):\n",
    "        self.age=newage"
   ]
  },
  {
   "cell_type": "code",
   "execution_count": 40,
   "metadata": {},
   "outputs": [
    {
     "name": "stdout",
     "output_type": "stream",
     "text": [
      "学生姓名马云，学号1234456，性别男，年龄19,专业土木工程\n",
      "学生姓名马云，学号1234456，性别男，年龄23,专业土木工程\n"
     ]
    }
   ],
   "source": [
    "stu = Student(\"马云\",1234456,\"男\",19,\"土木工程\")\n",
    "stu.describe()\n",
    "stu.changeage(23)\n",
    "stu.describe()\n"
   ]
  },
  {
   "cell_type": "markdown",
   "metadata": {},
   "source": [
    "#### 题 4：  编辑一个老师类\n"
   ]
  },
  {
   "cell_type": "code",
   "execution_count": 41,
   "metadata": {},
   "outputs": [],
   "source": [
    "class Teacher():\n",
    "    \"\"\"老师类，包含以下信息：\n",
    "    一个初始化成员函数__init__(self,name,id,sex,age,major)\n",
    "    一个描述老师信息函数describe()\n",
    "        老师的信息包括：姓名，工号，性别，年龄，专业\n",
    "    \"\"\"\n",
    "    pass\n",
    "    def __init__(self,name,id,sex,age,major):\n",
    "        self.name=name\n",
    "        self.id=id\n",
    "        self.sex=sex\n",
    "        self.age=age\n",
    "        self.major=major\n",
    "    def describe(self):\n",
    "        information=\"教师姓名\"+self.name+\"，工号\"+str(self.id)+\"，性别\"+self.sex+\"，年龄\"+str(self.age)+\",专业\"+self.major\n",
    "        print(information)"
   ]
  },
  {
   "cell_type": "code",
   "execution_count": 42,
   "metadata": {},
   "outputs": [
    {
     "name": "stdout",
     "output_type": "stream",
     "text": [
      "教师姓名孔子，工号10001，性别男，年龄85,专业土木工程\n"
     ]
    }
   ],
   "source": [
    "tea = Teacher(\"孔子\",10001,\"男\",85,\"土木工程\")\n",
    "tea.describe()\n"
   ]
  },
  {
   "cell_type": "markdown",
   "metadata": {},
   "source": [
    "#### 题 5：研究生类："
   ]
  },
  {
   "cell_type": "code",
   "execution_count": 111,
   "metadata": {},
   "outputs": [],
   "source": [
    "class Graduate(Student):\n",
    "    \"\"\"研究生类，包含以下信息：\n",
    "    一个初始化成员函数__init__(self,name,id,sex,age,major,tutor)\n",
    "    一个描述研究生信息函数describe(self)\n",
    "        学生的信息包括：姓名，学号，性别，年龄，专业，导师姓名\n",
    "    \"\"\"\n",
    "    pass\n",
    "    def __init__(self,name,id,sex,age,major,tutor):\n",
    "        self.name=name\n",
    "        self.id=id\n",
    "        self.sex=sex\n",
    "        self.age=age\n",
    "        self.major=major\n",
    "        self.tutor=tutor\n",
    "        self.tutor.name=tutor.name\n",
    "    def describe(self):\n",
    "        information=\"学生姓名\"+self.name+\"，学号\"+str(self.id)+\"，性别\"+self.sex+ \\\n",
    "        \"，年龄\"+str(self.age)+ \",专业\"+self.major+\",导师姓名\"+self.tutor.name\n",
    "        print(information) "
   ]
  },
  {
   "cell_type": "code",
   "execution_count": 112,
   "metadata": {},
   "outputs": [
    {
     "name": "stdout",
     "output_type": "stream",
     "text": [
      "学生姓名张三，学号19003，性别女，年龄22,专业土木工程,导师姓名孔子\n"
     ]
    }
   ],
   "source": [
    "grad = Graduate(\"张三\",19003,\"女\",22,\"土木工程\",tea)\n",
    "grad.describe()\n"
   ]
  },
  {
   "cell_type": "code",
   "execution_count": null,
   "metadata": {},
   "outputs": [],
   "source": []
  }
 ],
 "metadata": {
  "kernelspec": {
   "display_name": "Python 3 (ipykernel)",
   "language": "python",
   "name": "python3"
  },
  "language_info": {
   "codemirror_mode": {
    "name": "ipython",
    "version": 3
   },
   "file_extension": ".py",
   "mimetype": "text/x-python",
   "name": "python",
   "nbconvert_exporter": "python",
   "pygments_lexer": "ipython3",
   "version": "3.9.12"
  }
 },
 "nbformat": 4,
 "nbformat_minor": 4
}
