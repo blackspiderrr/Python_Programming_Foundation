{
 "cells": [
  {
   "cell_type": "markdown",
   "metadata": {},
   "source": [
    "### 作业01：\n",
    "要求：现有两个字典，键有重复，他们的值可能不同，请合并两个字典，如果值不同，请给出二者之和作为该键对应的值。"
   ]
  },
  {
   "cell_type": "code",
   "execution_count": 26,
   "metadata": {},
   "outputs": [],
   "source": [
    "dict1 = {\"a\":12, \"b\":10, \"c\":5, \"d\":3, \"e\":12}\n",
    "dict2 = {\"a\":2, \"c\":5, \"f\":11, \"d\":8}"
   ]
  },
  {
   "cell_type": "code",
   "execution_count": 21,
   "metadata": {},
   "outputs": [
    {
     "name": "stdout",
     "output_type": "stream",
     "text": [
      "{'a': 14, 'b': 10, 'c': 10, 'd': 11, 'e': 12, 'f': 11}\n"
     ]
    }
   ],
   "source": [
    "dict3={}\n",
    "dict3.update(dict1)\n",
    "dict3.update(dict2)\n",
    "for key2,value2 in dict2.items():\n",
    "    if key2 in dict1:\n",
    "        dict3[key2]=dict1[key2]+dict2[key2]\n",
    "print(dict3)"
   ]
  },
  {
   "cell_type": "markdown",
   "metadata": {},
   "source": [
    "### 作业02：\n",
    "- 编一个小型的系统，每次提示输入用户名，再提示输入一串密码\n",
    "- 当输入用户名为 -1 时，结束输入。\n",
    "- 形成一个name_password的字典，键为用户名，值为密码"
   ]
  },
  {
   "cell_type": "code",
   "execution_count": 13,
   "metadata": {},
   "outputs": [
    {
     "name": "stdout",
     "output_type": "stream",
     "text": [
      "请输入用户名：11\n",
      "请输入密码：123\n",
      "请输入用户名：-1\n"
     ]
    }
   ],
   "source": [
    "name_password = {}\n",
    "#### 代码完成在此\n",
    "while True:\n",
    "    name=int(input(\"请输入用户名：\")) \n",
    "    if int(name)!=-1:\n",
    "        password=int(input(\"请输入密码：\"))\n",
    "        name_password[name]=password\n",
    "        continue\n",
    "    else:\n",
    "        break\n"
   ]
  },
  {
   "cell_type": "markdown",
   "metadata": {},
   "source": [
    "- 再提示用户登录\n",
    "- 再提示输入用户名，以及输入密码\n",
    "- 如果用户名不在，则提示“用户名错误”，如果密码错误，则提示“密码错误”\n",
    "- 如果都正确，提示“成功登录”"
   ]
  },
  {
   "cell_type": "code",
   "execution_count": 15,
   "metadata": {},
   "outputs": [
    {
     "name": "stdout",
     "output_type": "stream",
     "text": [
      "请输入用户名：11\n",
      "请输入密码：123\n",
      "成功登录\n"
     ]
    }
   ],
   "source": [
    "# 完成代码与此\n",
    "name1=int(input(\"请输入用户名：\"))\n",
    "password1=int(input(\"请输入密码：\"))\n",
    "if name1 not in name_password:\n",
    "    print(\"用户名错误\")\n",
    "elif name_password[name1]!=password1:\n",
    "    print(\"密码错误\")\n",
    "else:\n",
    "    print(\"成功登录\")"
   ]
  },
  {
   "cell_type": "markdown",
   "metadata": {},
   "source": [
    "### 作业03：\n",
    "- 用集合的推理构造一个集合A为100以内 3的倍数；另一个集合B为100以内5的倍数\n",
    "- 集合的运算，利用A和B，计算得到C，满足5的倍数，不满足3的倍数要求"
   ]
  },
  {
   "cell_type": "code",
   "execution_count": 19,
   "metadata": {},
   "outputs": [
    {
     "name": "stdout",
     "output_type": "stream",
     "text": [
      "{65, 35, 5, 70, 40, 10, 80, 50, 20, 85, 55, 25, 95}\n"
     ]
    }
   ],
   "source": [
    "# 完成代码与此\n",
    "A=set()\n",
    "B=set()\n",
    "for i in range(0,100):\n",
    "    if i%3==0:\n",
    "        A.add(i)\n",
    "    elif i%5==0:\n",
    "        B.add(i)\n",
    "C=B-A\n",
    "print(C)"
   ]
  },
  {
   "cell_type": "markdown",
   "metadata": {},
   "source": [
    "### 作业04：\n",
    "- 有如下人员信息，请根据人员岁数由大到小顺序排序\n"
   ]
  },
  {
   "cell_type": "code",
   "execution_count": 2,
   "metadata": {},
   "outputs": [],
   "source": [
    "d1 = [{'name':'Alice', 'age':38},\n",
    "    {'name':'Bob', 'age':18},\n",
    "    {'name':'Eason', 'age':26},\n",
    "    {'name':'Zebra', 'age':29},\n",
    "    {'name':'Fasad', 'age':28},\n",
    "    {'name':'Goergo', 'age':43},\n",
    "    {'name':'Kurnal', 'age':23},\n",
    "    {'name':'Tom', 'age':11}\n",
    "]"
   ]
  },
  {
   "cell_type": "code",
   "execution_count": 3,
   "metadata": {},
   "outputs": [
    {
     "name": "stdout",
     "output_type": "stream",
     "text": [
      "{'name': 'Goergo', 'age': 43} \n",
      "{'name': 'Alice', 'age': 38} \n",
      "{'name': 'Zebra', 'age': 29} \n",
      "{'name': 'Fasad', 'age': 28} \n",
      "{'name': 'Eason', 'age': 26} \n",
      "{'name': 'Kurnal', 'age': 23} \n",
      "{'name': 'Bob', 'age': 18} \n",
      "{'name': 'Tom', 'age': 11} \n"
     ]
    }
   ],
   "source": [
    "# 代码完成与此\n",
    "D1=sorted(d1,key=lambda d:d['age'],reverse=True)\n",
    "for i in range(len(D1)):\n",
    "    print(D1[i],'\\n',end=\"\")"
   ]
  },
  {
   "cell_type": "code",
   "execution_count": 46,
   "metadata": {},
   "outputs": [
    {
     "name": "stdout",
     "output_type": "stream",
     "text": [
      "{'name': 'Martin', 'age': 70} \n",
      "{'name': 'Goergo', 'age': 43} \n",
      "{'name': 'Alice', 'age': 38} \n",
      "{'name': 'Zebra', 'age': 29} \n",
      "{'name': 'Fasad', 'age': 28} \n",
      "{'name': 'Eason', 'age': 26} \n",
      "{'name': 'Serah', 'age': 25} \n",
      "{'name': 'Kurnal', 'age': 23} \n",
      "{'name': 'Bob', 'age': 18} \n",
      "{'name': 'Tom', 'age': 11} \n"
     ]
    }
   ],
   "source": [
    "d2 = [{'name':'Serah', 'age':25},\n",
    "    {'name':'Martin', 'age':70}]\n",
    "# 请将d2插入到排好序的人员信息中（按年龄顺序插入）\n",
    "# 代码完成与此\n",
    "D1.extend(d2)\n",
    "D2=sorted(D1,key=lambda D1:D1['age'],reverse=True)\n",
    "for i in range(len(D2)):\n",
    "    print(D2[i],'\\n',end=\"\")"
   ]
  },
  {
   "cell_type": "markdown",
   "metadata": {},
   "source": [
    "### 作业05：猜单词（选做）\n",
    "- 如果有一个单词库danci   \n",
    "- 系统随机抽出一个单词，比如apple，但仅给出单词占的位置，如输出*****，则表示有5个位置的单词\n",
    "- 提示输入一个字母，比如a，则输出a****，表示才对一个字母；否则则输出*****，表示未猜对。\n",
    "- 一个单词只提供5次机会\n",
    "- 5次之内答对了，则算赢；否则算输。"
   ]
  },
  {
   "cell_type": "code",
   "execution_count": 4,
   "metadata": {},
   "outputs": [
    {
     "name": "stdout",
     "output_type": "stream",
     "text": [
      "单词为 ***\n",
      "请输入猜的结果：o\n",
      "本次猜中部分，结果变成： o**\n",
      "单词为 o**\n",
      "请输入猜的结果：n\n",
      "本次猜中部分，结果变成： on*\n",
      "单词为 on*\n",
      "请输入猜的结果：one\n",
      "恭喜你答对啦！\n"
     ]
    }
   ],
   "source": [
    "############没有编好#############\n",
    "import random\n",
    "danci={\"apple\", \"banana\", \"orange\", \"elephant\", \"tree\", \"morning\", \"afternoon\",\n",
    "      \"eye\", \"nose\", \"face\", \"one\", \"two\", \"fast\", \"to\", \"a\", \"good\", \"bad\",\n",
    "      \"desk\", \"hat\"}\n",
    "answer = random.choice(list(danci))\n",
    "# 代码完成如下\n",
    "la=[x for x in answer] #list of answer\n",
    "s='*'*len(answer) #stars\n",
    "ls=[x for x in '*'*len(answer)] #list of stars\n",
    "cl=5 #chanceleft=5\n",
    "while cl!=0:\n",
    "    print(\"单词为\",s)\n",
    "    g=input(\"请输入猜的结果：\")  #guess\n",
    "    cl-=1\n",
    "    if g==answer:\n",
    "        print(\"恭喜你答对啦！\")\n",
    "        break\n",
    "    elif g in la:\n",
    "        ls[la.index(g)]=g\n",
    "        s=\"\".join(ls)\n",
    "        print(\"本次猜中部分，结果变成：\",s)\n",
    "    else:\n",
    "        if cl>0:\n",
    "            print(\"你猜的字母单词里没有，很遗憾，还有\",cl,\"次机会\")\n",
    "        else:\n",
    "            print(\"哈哈，你没猜对，答案是\",answer)\n",
    "        \n",
    "\n"
   ]
  },
  {
   "cell_type": "code",
   "execution_count": null,
   "metadata": {},
   "outputs": [],
   "source": []
  }
 ],
 "metadata": {
  "kernelspec": {
   "display_name": "Python 3 (ipykernel)",
   "language": "python",
   "name": "python3"
  },
  "language_info": {
   "codemirror_mode": {
    "name": "ipython",
    "version": 3
   },
   "file_extension": ".py",
   "mimetype": "text/x-python",
   "name": "python",
   "nbconvert_exporter": "python",
   "pygments_lexer": "ipython3",
   "version": "3.9.12"
  }
 },
 "nbformat": 4,
 "nbformat_minor": 4
}
