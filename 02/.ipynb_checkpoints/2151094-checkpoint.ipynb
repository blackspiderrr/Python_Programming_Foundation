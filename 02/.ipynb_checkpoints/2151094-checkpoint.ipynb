{
 "cells": [
  {
   "cell_type": "markdown",
   "metadata": {},
   "source": [
    "## 第02讲 课后练习题"
   ]
  },
  {
   "cell_type": "markdown",
   "metadata": {},
   "source": [
    "### 第1题 水仙花数（Narcissistic number）\n",
    "- 也被称为超完全数字不变数（pluperfect digital invariant, PPDI）、自恋数、自幂数、阿姆斯壮数或阿姆斯特朗数（Armstrong number）  \n",
    "- 水仙花数是指一个 3 位数，它的每个位上的数字的 3次幂之和等于它本身（例如：1^3 + 5^3+ 3^3 = 153）  \n"
   ]
  },
  {
   "cell_type": "code",
   "execution_count": 1,
   "metadata": {},
   "outputs": [
    {
     "name": "stdout",
     "output_type": "stream",
     "text": [
      "153\n",
      "370\n",
      "371\n",
      "407\n"
     ]
    }
   ],
   "source": [
    "# 请编写程序，找出所有的水仙花数。\n",
    "# 代码写在此处\n",
    "for a in range(100,1000):\n",
    "    bai=a//100\n",
    "    shi=(a-bai*100)//10\n",
    "    ge=a-bai*100-shi*10\n",
    "    if bai**3+shi**3+ge**3==a:\n",
    "        print(a)\n",
    "    else:\n",
    "        continue"
   ]
  },
  {
   "cell_type": "markdown",
   "metadata": {},
   "source": [
    "### 第2题  两个数公因数\n",
    "- 如果一个整数同时是几个整数的因数，称这个整数为它们的“公因数”\n",
    "- 请输出a和b的所有的公因数\n",
    "- 要求输入两个正整数a,b\n",
    "- 输出全部公因数"
   ]
  },
  {
   "cell_type": "code",
   "execution_count": 16,
   "metadata": {
    "scrolled": true
   },
   "outputs": [
    {
     "name": "stdout",
     "output_type": "stream",
     "text": [
      "请输入一个正整数18\n",
      "请再输入一个正整数36\n",
      "1\n",
      "2\n",
      "3\n",
      "6\n",
      "9\n",
      "18\n"
     ]
    }
   ],
   "source": [
    "# 代码完成在此处\n",
    "a=int(input(\"请输入一个正整数\"))\n",
    "b=int(input(\"请再输入一个正整数\"))\n",
    "for c in range(1,max(a,b)+1):\n",
    "    if a%c==0 and b%c==0:\n",
    "        print(c)\n",
    "    else:\n",
    "        continue"
   ]
  },
  {
   "cell_type": "markdown",
   "metadata": {},
   "source": [
    "### 第3题  身份证最后一位\n",
    "- 身份证最后一位的确定不是随机的，原则如下：\n",
    "  - 将前面的身份证号码17位数分别乘以不同的系数。\n",
    "  - 从第一位到第十七位的系数分别为：7 9 10 5 8 4 2 1 6 3 7 9 10 5 8 4 2 ；\n",
    "  - 将这17位数字和系数相乘的结果相加；\n",
    "  - 用加出来和除以11，看余数是多少；\n",
    "  - 余数只可能有0 1 2 3 4 5 6 7 8 9 10这11个数字。\n",
    "  - 其分别对应的最后一位身份证的号码为1 0 X 9 8 7 6 5 4 3 2；\n",
    "  - 如：通过上面得知如果余数是2，余数所对应的最后一位身份证号是X，就会在身份证的第18位数字上出现罗马数字的X。\n",
    "\n",
    "- 要求输入身份证号码的前17位\n",
    "- 计算最后一位\n",
    "- 并输出十八位身份证号码。\n"
   ]
  },
  {
   "cell_type": "code",
   "execution_count": 27,
   "metadata": {},
   "outputs": [
    {
     "name": "stdout",
     "output_type": "stream",
     "text": [
      "身份证前17位32062119780108551\n",
      "身份证最后一位是 X\n",
      "32062119780108551X\n"
     ]
    }
   ],
   "source": [
    "Id17 = input(\"身份证前17位\")\n",
    "xishu=[7,9,10,5,8,4,2,1,6,3,7,9,10,5,8,4,2]\n",
    "#计算17位数字和系数相乘的结果相加之和\n",
    "count=0\n",
    "for i in range(17):\n",
    "    count+=int(Id17[i])*xishu[i]\n",
    "yushu=count%11\n",
    "haoma=['1','0','X','9','8','7','6','5','4','3','2']\n",
    "#得到最后一位号码\n",
    "last=haoma[yushu]\n",
    "print('身份证最后一位是',last)\n",
    "print(Id17+last)"
   ]
  },
  {
   "cell_type": "markdown",
   "metadata": {},
   "source": [
    "### 第4题  计算某年某月某日是星期几\n",
    "- 本题假设某年的元旦是周一！\n",
    "- 请输入0~365(最多366)\n",
    "- 计算这一天是这一年的几月几日\n",
    "- 计算这一天是星期几\n",
    "- 输出结果\n",
    "- 要求通过input输入year nday两个参数\n",
    "- 输出:\n",
    "  ```python\n",
    "2020年的第366天是12月31日星期二。\n",
    "```"
   ]
  },
  {
   "cell_type": "code",
   "execution_count": 68,
   "metadata": {},
   "outputs": [
    {
     "name": "stdout",
     "output_type": "stream",
     "text": [
      "输入年份[为4位数]2020\n",
      "输入天数[1~366]366\n"
     ]
    }
   ],
   "source": [
    "year = int(input(\"输入年份[为4位数]\"))\n",
    "nday = int(input(\"输入天数[1~366]\"))"
   ]
  },
  {
   "cell_type": "code",
   "execution_count": 10,
   "metadata": {},
   "outputs": [
    {
     "name": "stdout",
     "output_type": "stream",
     "text": [
      "输入年份[为4位数]2020\n",
      "输入天数[1~366]366\n",
      "2020年的第366天是12月31日星期二。\n"
     ]
    }
   ],
   "source": [
    "# 代码完成在此处\n",
    "year = int(input(\"输入年份[为4位数]\"))\n",
    "nday = int(input(\"输入天数[1~366]\"))\n",
    "month=[1,2,3,4,5,6,7,8,9,10,11,12]\n",
    "day_1=[31,29,31,30,31,30,31,31,30,31,30,31]\n",
    "day_2=[31,28,31,30,31,30,31,31,30,31,30,31]\n",
    "##计算闰年or平年\n",
    "if (year%4==0 and year%100!=0) or year%400==0:\n",
    "    year_1='run'\n",
    "else:\n",
    "    year_2='ping'\n",
    "##计算日期\n",
    "a=0\n",
    "i=0\n",
    "if year_1=='run':\n",
    "    while a<nday:\n",
    "        a+=day_1[i]\n",
    "        i+=1\n",
    "    yue=i\n",
    "    ri=nday-a+day_1[i-1]\n",
    "else:\n",
    "    while a<nday:\n",
    "        a+=day_2[i]\n",
    "        i+=1\n",
    "    yue=i\n",
    "    ri=nday-a+day_2[i-1]\n",
    "##计算星期几\n",
    "j=nday%7\n",
    "xq=['一','二','三','四','五','六','日']\n",
    "xingqi=xq[j-1]\n",
    "print(year,'年的第',nday,'天是',yue,'月',ri,'日星期',xingqi,'。',sep='')"
   ]
  },
  {
   "cell_type": "code",
   "execution_count": null,
   "metadata": {},
   "outputs": [],
   "source": []
  }
 ],
 "metadata": {
  "kernelspec": {
   "display_name": "Python 3 (ipykernel)",
   "language": "python",
   "name": "python3"
  },
  "language_info": {
   "codemirror_mode": {
    "name": "ipython",
    "version": 3
   },
   "file_extension": ".py",
   "mimetype": "text/x-python",
   "name": "python",
   "nbconvert_exporter": "python",
   "pygments_lexer": "ipython3",
   "version": "3.9.12"
  }
 },
 "nbformat": 4,
 "nbformat_minor": 4
}
