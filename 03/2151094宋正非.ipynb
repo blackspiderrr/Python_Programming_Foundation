{
 "cells": [
  {
   "cell_type": "markdown",
   "metadata": {},
   "source": [
    "# 第03讲 程序控制结构 课后练习题"
   ]
  },
  {
   "cell_type": "markdown",
   "metadata": {},
   "source": [
    "### 第1题"
   ]
  },
  {
   "cell_type": "markdown",
   "metadata": {},
   "source": [
    "- 某小店，售卖咖啡一杯30元；一次性购买5杯打9折，一次性购买8杯打8折，一次性购买12杯以上打7折。\n",
    "- 根据单价price与杯数ncup，计算总共价钱"
   ]
  },
  {
   "cell_type": "code",
   "execution_count": 1,
   "metadata": {},
   "outputs": [
    {
     "name": "stdout",
     "output_type": "stream",
     "text": [
      "输入杯数13\n"
     ]
    }
   ],
   "source": [
    "price = 30\n",
    "ncup = int(input(\"输入杯数\"))\n"
   ]
  },
  {
   "cell_type": "code",
   "execution_count": 2,
   "metadata": {},
   "outputs": [
    {
     "name": "stdout",
     "output_type": "stream",
     "text": [
      "总共273.0元。\n"
     ]
    }
   ],
   "source": [
    "# ========answer=======\n",
    "if 5==ncup:\n",
    "    zj=price*5*0.9\n",
    "elif 8==ncup:\n",
    "    zj=price*8*0.8\n",
    "elif ncup>12:\n",
    "    zj=price*ncup*0.7\n",
    "else:\n",
    "    zj=price*ncup\n",
    "print(\"总共\"+str(zj)+\"元。\")\n"
   ]
  },
  {
   "cell_type": "markdown",
   "metadata": {},
   "source": [
    "### 第2题"
   ]
  },
  {
   "cell_type": "markdown",
   "metadata": {},
   "source": [
    "- 连续输入若干个非0整数，当输入整数位0时，停止输入\n",
    "- 计算输入整数的平均值、最大值、最小值、中位数"
   ]
  },
  {
   "cell_type": "code",
   "execution_count": 9,
   "metadata": {},
   "outputs": [
    {
     "name": "stdout",
     "output_type": "stream",
     "text": [
      "请输入整数：-5\n",
      "请输入整数：-3\n",
      "请输入整数：-1\n",
      "请输入整数：1\n",
      "请输入整数：3\n",
      "请输入整数：5\n",
      "请输入整数：0\n",
      "平均值为: 0.0\n",
      "最大值为: 5\n",
      "最小值为: -5\n",
      "中位数为: 0\n"
     ]
    }
   ],
   "source": [
    "# ========answer=======\n",
    "num_list=[]\n",
    "num=1\n",
    "while num%10!=0:\n",
    "    num=int(input(\"请输入整数：\"))\n",
    "    num_list.append(num)\n",
    "n=len(num_list)\n",
    "average=sum(num_list)/n \n",
    "print(\"平均值为:\",average)\n",
    "print(\"最大值为:\",max(num_list))\n",
    "print(\"最小值为:\",min(num_list))\n",
    "num_list.sort()\n",
    "if n%2==0:\n",
    "    mid1=num_list[n//2-1]\n",
    "    mid2=num_list[n//2]\n",
    "    mid=(mid1+mid2)/2\n",
    "else:\n",
    "    mid=num_list[n//2]\n",
    "print(\"中位数为:\",mid)\n"
   ]
  },
  {
   "cell_type": "markdown",
   "metadata": {},
   "source": [
    "### 第3题 水仙花数"
   ]
  },
  {
   "cell_type": "markdown",
   "metadata": {},
   "source": [
    "- 水仙花数是一个三位数，该数等于每位数的立方和\n",
    "- 输出所有符合条件的水仙花数"
   ]
  },
  {
   "cell_type": "code",
   "execution_count": 6,
   "metadata": {},
   "outputs": [
    {
     "name": "stdout",
     "output_type": "stream",
     "text": [
      "153\n",
      "370\n",
      "371\n",
      "407\n"
     ]
    }
   ],
   "source": [
    "# ========answer=======\n",
    "for i in range(100,1000):\n",
    "    bai=i//100\n",
    "    shi=(i-bai*100)//10\n",
    "    ge=i-bai*100-shi*10\n",
    "    if i==bai**3+shi**3+ge**3:\n",
    "        print(i)\n",
    "    else:\n",
    "        continue"
   ]
  },
  {
   "cell_type": "markdown",
   "metadata": {},
   "source": [
    "### 第4题 字符统计"
   ]
  },
  {
   "cell_type": "markdown",
   "metadata": {},
   "source": [
    "- 有一串字符，请统计出字母大写/字母小写/数字/其他符号各多少\n",
    "- 输出结果"
   ]
  },
  {
   "cell_type": "code",
   "execution_count": 2,
   "metadata": {},
   "outputs": [
    {
     "name": "stdout",
     "output_type": "stream",
     "text": [
      "3 27 2 15\n"
     ]
    }
   ],
   "source": [
    "string = \"I am a boy. I am 22 years old. How old are you?\"\n",
    "# ========answer=======\n",
    "dx=0\n",
    "xx=0\n",
    "sz=0\n",
    "qt=0\n",
    "n=len(string)\n",
    "for i in range(0,n):\n",
    "    if ord(string[i])>=65 and ord(string[i])<=90:\n",
    "        dx+=1\n",
    "    elif ord(string[i])>=97 and ord(string[i])<=122:\n",
    "        xx+=1\n",
    "    elif ord(string[i])>=48 and ord(string[i])<=57:\n",
    "        sz+=1\n",
    "    else:\n",
    "        qt+=1\n",
    "print(dx,xx,sz,qt)\n"
   ]
  },
  {
   "cell_type": "markdown",
   "metadata": {},
   "source": [
    "### 第5题 计算下面表达式结果"
   ]
  },
  {
   "cell_type": "markdown",
   "metadata": {},
   "source": [
    "$S=1+\\frac{1}{2}+\\frac{1}{4}+\\frac{1}{7}+\\frac{1}{11}+\\frac{1}{16}+\\frac{1}{22}+\\frac{1}{29}+...$"
   ]
  },
  {
   "cell_type": "markdown",
   "metadata": {},
   "source": [
    "- 要求当某一项小$10^{-6}$时，停止求和"
   ]
  },
  {
   "cell_type": "code",
   "execution_count": 10,
   "metadata": {},
   "outputs": [],
   "source": [
    "S = 0"
   ]
  },
  {
   "cell_type": "code",
   "execution_count": 14,
   "metadata": {},
   "outputs": [
    {
     "name": "stdout",
     "output_type": "stream",
     "text": [
      "2.3722402487547316\n"
     ]
    }
   ],
   "source": [
    "# ========answer=======\n",
    "s=0\n",
    "n=1\n",
    "i=0\n",
    "while n<=10**6:\n",
    "    s+=1/n\n",
    "    i+=1\n",
    "    n+=i\n",
    "print(s)\n"
   ]
  },
  {
   "cell_type": "code",
   "execution_count": null,
   "metadata": {},
   "outputs": [],
   "source": []
  }
 ],
 "metadata": {
  "kernelspec": {
   "display_name": "Python 3 (ipykernel)",
   "language": "python",
   "name": "python3"
  },
  "language_info": {
   "codemirror_mode": {
    "name": "ipython",
    "version": 3
   },
   "file_extension": ".py",
   "mimetype": "text/x-python",
   "name": "python",
   "nbconvert_exporter": "python",
   "pygments_lexer": "ipython3",
   "version": "3.9.12"
  }
 },
 "nbformat": 4,
 "nbformat_minor": 4
}
