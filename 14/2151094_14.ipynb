{
 "cells": [
  {
   "cell_type": "markdown",
   "metadata": {},
   "source": [
    "# 第14周作业\n",
    "\n",
    "\n",
    "- 提交文件命名\n",
    "    - 学号_14.ipynb ，如 1234567_14.ipynb\n"
   ]
  },
  {
   "cell_type": "markdown",
   "metadata": {},
   "source": [
    "#### 题 1：生成一个维度为n(n<10)的numpy正方形矩阵，具有以下最外层数据均为1，每往中心一层，数据是外层的两倍。如\n",
    "1 1 1  \n",
    "1 2 1  \n",
    "1 1 1  \n",
    "4*4矩阵为：  \n",
    "1 1 1 1  \n",
    "1 2 2 1  \n",
    "1 2 2 1  \n",
    "1 1 1 1    \n",
    "5*5矩阵为：  \n",
    "1 1 1 1 1  \n",
    "1 2 2 2 1  \n",
    "1 2 4 2 1  \n",
    "1 2 2 2 1  \n",
    "1 1 1 1 1  "
   ]
  },
  {
   "cell_type": "code",
   "execution_count": 18,
   "metadata": {},
   "outputs": [
    {
     "name": "stdout",
     "output_type": "stream",
     "text": [
      "生成维度为5的正方形矩阵\n",
      "[[1 1 1 1 1]\n",
      " [1 2 2 2 1]\n",
      " [1 2 4 2 1]\n",
      " [1 2 2 2 1]\n",
      " [1 1 1 1 1]]\n"
     ]
    }
   ],
   "source": [
    "# 代码完成如下\n",
    "import numpy as np\n",
    "n=np.random.randint(1,10)\n",
    "print(\"生成维度为%s的正方形矩阵\"%n)\n",
    "jz=np.ones((n,n),dtype=int)\n",
    "if n%2==0:\n",
    "    for i in range(1,n//2):\n",
    "        x=jz[i:(n-i),i:(n-i)]\n",
    "        x*=2\n",
    "if n%2!=0:\n",
    "    for i in range(1,(n+1)//2):\n",
    "        x=jz[i:(n-i),i:(n-i)]\n",
    "        x*=2\n",
    "print(jz)\n"
   ]
  },
  {
   "cell_type": "markdown",
   "metadata": {},
   "source": [
    "#### 题 2：现有一个随机矩阵data，\n",
    "- 请输出该矩阵每列的平均值和方差\n",
    "- 将每列减去该列的平均值，并按照实际标准差进行缩放，使得缩放之后的数据标准差为1，形成新的随机矩阵datan，\n",
    "- 输出datan矩阵的每列平均值和方差\n"
   ]
  },
  {
   "cell_type": "code",
   "execution_count": 4,
   "metadata": {},
   "outputs": [
    {
     "name": "stdout",
     "output_type": "stream",
     "text": [
      "每列平均值为[ 0.0279096  -0.01722259 -0.0018951  -0.00071245 -0.00123295],每列方差为[0.99015546 1.00661364 0.99881734 0.98084198 1.03312145]\n",
      "新的随机矩阵标准差为： [1. 1. 1. 1. 1.]\n",
      "新矩阵的每列平均值为[-9.60898028e-17 -9.38138456e-18 -1.60149671e-18  3.58366115e-17\n",
      " -1.04360964e-17]，每列方差为[1. 1. 1. 1. 1.]\n"
     ]
    }
   ],
   "source": [
    "import numpy as np\n",
    "data = np.random.normal(0,1,[10000,5])\n",
    "## 完成代码如下：\n",
    "pjz=np.mean(data,axis=0)\n",
    "fc=np.var(data,axis=0)\n",
    "print(\"每列平均值为%s,每列方差为%s\"%(pjz,fc))\n",
    "data-=pjz\n",
    "bzc=np.std(data,axis=0)\n",
    "datan=data/bzc\n",
    "print(\"新的随机矩阵标准差为：\",np.std(datan,axis=0))\n",
    "print(\"新矩阵的每列平均值为%s，每列方差为%s\"%(np.mean(datan,axis=0),np.var(datan,axis=0)))\n"
   ]
  },
  {
   "cell_type": "markdown",
   "metadata": {},
   "source": [
    "### 题 3：已有一个数组array01\n",
    "- 请将能被7整除的数变成-1，并统计有多少数能被7整除。\n",
    "- 要求原数组上修改为-1\n",
    "- 按行统计每行-1的个数，并统计1个-1的行数，2个-1的行数，。。。，10个-1的行数,并输出。\n",
    "- 请将所有满足-1个数为5的数据，形成一个新的数组"
   ]
  },
  {
   "cell_type": "code",
   "execution_count": 49,
   "metadata": {},
   "outputs": [
    {
     "name": "stdout",
     "output_type": "stream",
     "text": [
      "[[  3 355 964 ... 903 137 335]\n",
      " [643 543 936 ... 170 952 323]\n",
      " [698 604 194 ... 294 494 561]\n",
      " ...\n",
      " [954  94 822 ... 694 895 276]\n",
      " [580 742 110 ... 770 289 501]\n",
      " [396 800 137 ... 711 923 940]]\n",
      "0个-1的行数为182\n",
      "1个-1的行数为376\n",
      "2个-1的行数为280\n",
      "3个-1的行数为108\n",
      "4个-1的行数为45\n",
      "5个-1的行数为7\n",
      "6个-1的行数为1\n",
      "7个-1的行数为1\n",
      "8个-1的行数为0\n",
      "9个-1的行数为0\n",
      "10个-1的行数为0\n",
      "新数组为： [[ -1  -1 506 760 900  -1 367 341  -1  -1]\n",
      " [745 193  -1  -1  46 816  -1  -1 123  -1]\n",
      " [935  -1  -1 508 400 356  -1 163  -1  -1]\n",
      " [367  -1 103  -1 558 307  -1 892  -1  -1]\n",
      " [978  -1  -1  -1  -1 283 967  -1 139 341]\n",
      " [ -1  34  -1 599  -1 125  -1 900  -1 535]\n",
      " [ 16  -1 303  -1  -1 352  -1  90  -1 754]]\n"
     ]
    }
   ],
   "source": [
    "import numpy as np\n",
    "array01 = np.random.randint(1000,size=[1000, 10])\n",
    "print(array01)\n",
    "## 完成代码如下：\n",
    "l1=[];l2=[]\n",
    "for i in range(0,1000):\n",
    "    y=0\n",
    "    for j in range(0,10):\n",
    "        if array01[i][j]%7==0:\n",
    "            array01[i][j]=-1\n",
    "            y+=1\n",
    "    l1.append(y)\n",
    "#print(\"每行-1的个数分别是%s\"%l1)\n",
    "    if y==5:\n",
    "         l2.append(array01[i])\n",
    "\n",
    "for i in range(0,11):\n",
    "    x=l1.count(i)\n",
    "    print(\"%s个-1的行数为%s\"%(i,x))\n",
    "\n",
    "array02=np.vstack([x for x in l2])\n",
    "print(\"新数组为：\",array02)  "
   ]
  },
  {
   "cell_type": "markdown",
   "metadata": {},
   "source": [
    "### 题 4：pi的计算\n",
    "- 随机生成一个numpy数组，n行，2列(n=10000）\n",
    "- 要求数据大小在-1~1之间均匀分布\n",
    "- 用第一列作为x，第二列作为y，每一行数据作为一个点的坐标\n",
    "- 计算该点到原点的距离，作为该数组的第3列\n",
    "- 如果距离<=1的点的个数统计一下，比如得到点的个数为m\n",
    "- 计算 p = 4*m/n 的值\n",
    "- 设置不同的n，计算p随n变化的结果，形成新的numpy数组\n",
    "- 尝试绘制曲线图p-n"
   ]
  },
  {
   "cell_type": "code",
   "execution_count": 29,
   "metadata": {},
   "outputs": [
    {
     "name": "stdout",
     "output_type": "stream",
     "text": [
      "随机输入一个正整数：1000\n"
     ]
    },
    {
     "data": {
      "text/plain": [
       "[<matplotlib.lines.Line2D at 0x1b620e3d460>]"
      ]
     },
     "execution_count": 29,
     "metadata": {},
     "output_type": "execute_result"
    },
    {
     "data": {
      "image/png": "[encoded data removed]",
      "text/plain": [
       "<Figure size 432x288 with 1 Axes>"
      ]
     },
     "metadata": {
      "needs_background": "light"
     },
     "output_type": "display_data"
    }
   ],
   "source": [
    "import numpy as np\n",
    "import matplotlib.pyplot as plt\n",
    "\n",
    "## 完成代码如下：\n",
    "n=int(input(\"随机输入一个正整数：\"))\n",
    "array1=np.random.uniform(-1,1,[n,3])\n",
    "for i in range(0,n):\n",
    "    if array1[i][0]**2+array1[i][1]**2<=1:\n",
    "        array1[i][2]=0\n",
    "    else:\n",
    "        array1[i][2]=1\n",
    "m=0;pl=[];nl=[]\n",
    "array2=np.ones((n,2))\n",
    "for i in range(1,n):\n",
    "    nl.append(i)\n",
    "    array2[i][0]=i\n",
    "    if array1[i][2]==0:\n",
    "        m+=1\n",
    "    pl.append(4*m/i)\n",
    "    array2[i][1]=4*m/i\n",
    "plt.plot(nl,pl)    \n"
   ]
  },
  {
   "cell_type": "code",
   "execution_count": null,
   "metadata": {},
   "outputs": [],
   "source": []
  },
  {
   "cell_type": "markdown",
   "metadata": {},
   "source": [
    "## 结束"
   ]
  }
 ],
 "metadata": {
  "kernelspec": {
   "display_name": "Python 3 (ipykernel)",
   "language": "python",
   "name": "python3"
  },
  "language_info": {
   "codemirror_mode": {
    "name": "ipython",
    "version": 3
   },
   "file_extension": ".py",
   "mimetype": "text/x-python",
   "name": "python",
   "nbconvert_exporter": "python",
   "pygments_lexer": "ipython3",
   "version": "3.9.12"
  }
 },
 "nbformat": 4,
 "nbformat_minor": 2
}
