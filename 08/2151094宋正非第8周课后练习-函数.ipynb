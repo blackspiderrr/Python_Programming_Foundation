{
 "cells": [
  {
   "cell_type": "markdown",
   "metadata": {},
   "source": [
    "# 第8周课后练习\n",
    "\n",
    "- 要求\n",
    "    - 良好的编程风格\n",
    "    - 逻辑清楚\n",
    "    - 简洁\n",
    "    - 充分利用所学的函数知识\n",
    "        - 参数\n",
    "        - 缺省值\n",
    "        - 注释\n",
    "        - 文档属性\n",
    "        - 等"
   ]
  },
  {
   "cell_type": "markdown",
   "metadata": {},
   "source": [
    "#### 题 1：完成一个数的质因数分解，函数名称为IntegerDecomp2Prime\n",
    "\n",
    "- 函数IntegerDecomp2Prime(n:int)\n",
    "- 结果为一个列表\n"
   ]
  },
  {
   "cell_type": "code",
   "execution_count": 2,
   "metadata": {},
   "outputs": [],
   "source": [
    "def IntegerDecomp2Prime(n:int)->list:\n",
    "    pass\n",
    "    # 代码写于此\n",
    "    list=[]\n",
    "    while n!=1:\n",
    "        for i in range(2,n+1):\n",
    "            while n%i==0:\n",
    "                list.append(i)\n",
    "                n/=i\n",
    "    print(list)"
   ]
  },
  {
   "cell_type": "code",
   "execution_count": 3,
   "metadata": {},
   "outputs": [
    {
     "name": "stdout",
     "output_type": "stream",
     "text": [
      "[41]\n"
     ]
    }
   ],
   "source": [
    "# test1\n",
    "IntegerDecomp2Prime(41)\n"
   ]
  },
  {
   "cell_type": "code",
   "execution_count": 4,
   "metadata": {},
   "outputs": [
    {
     "name": "stdout",
     "output_type": "stream",
     "text": [
      "[2, 2, 2]\n"
     ]
    }
   ],
   "source": [
    "# test2\n",
    "IntegerDecomp2Prime(8)\n"
   ]
  },
  {
   "cell_type": "code",
   "execution_count": 5,
   "metadata": {},
   "outputs": [
    {
     "name": "stdout",
     "output_type": "stream",
     "text": [
      "[2, 2, 2, 2, 3, 3]\n"
     ]
    }
   ],
   "source": [
    "# test3\n",
    "IntegerDecomp2Prime(144)\n"
   ]
  },
  {
   "cell_type": "code",
   "execution_count": 6,
   "metadata": {},
   "outputs": [
    {
     "name": "stdout",
     "output_type": "stream",
     "text": [
      "[2, 7, 7, 11, 13, 593]\n"
     ]
    }
   ],
   "source": [
    "# test4\n",
    "# 太大可能担心奔溃\n",
    "IntegerDecomp2Prime(8310302)\n",
    "#IntegerDecomp2Prime(32212254719)  #这个素数比较大"
   ]
  },
  {
   "cell_type": "markdown",
   "metadata": {},
   "source": [
    "#### 题 2：验证哥德巴赫猜想\n",
    "- 编制函数Goldbach(n)\n",
    "- 输出所有可能的满足 n=n1+n2的数（n1与n2为素数），以元组形式输出"
   ]
  },
  {
   "cell_type": "code",
   "execution_count": 66,
   "metadata": {},
   "outputs": [],
   "source": [
    "# 题 2 函数定义\n",
    "\n",
    "def Goldbach(n):\n",
    "    pass\n",
    "    # 代码写于此\n",
    "    def sushu(a):\n",
    "        i=2\n",
    "        while i<a:\n",
    "            if a%i==0:\n",
    "                return False\n",
    "            i+=1\n",
    "        return True\n",
    "                \n",
    "    \n",
    "    list=[]\n",
    "    for a in range(2,n//2):\n",
    "        if sushu(a):\n",
    "            if sushu(n-a):\n",
    "                tuple=(a,n-a)\n",
    "                list.append(tuple)\n",
    "    \n",
    "    print(list)"
   ]
  },
  {
   "cell_type": "code",
   "execution_count": 67,
   "metadata": {},
   "outputs": [
    {
     "name": "stdout",
     "output_type": "stream",
     "text": [
      "请输入一个大于2的偶数：86\n",
      "[(3, 83), (7, 79), (13, 73), (19, 67)]\n"
     ]
    }
   ],
   "source": [
    "# 题 2 调用\n",
    "n = int(input(\"请输入一个大于2的偶数：\"))\n",
    "Goldbach(n)"
   ]
  },
  {
   "cell_type": "markdown",
   "metadata": {},
   "source": [
    "#### 题 3：求最大公约数与最小公倍数"
   ]
  },
  {
   "cell_type": "code",
   "execution_count": 7,
   "metadata": {},
   "outputs": [],
   "source": [
    "# 题 3 函数定义\n",
    "def gcd_lcm(m,n):\n",
    "    # 要求返回一个元组，第一个元素为最大公约数，第二个元素为最小公倍数\n",
    "    pass\n",
    "    # 代码写于此\n",
    "    import math\n",
    "    gcd=math.gcd(m,n)\n",
    "    lcm=(m*n)//gcd\n",
    "    tuple=(gcd,lcm)\n",
    "    return(tuple)\n"
   ]
  },
  {
   "cell_type": "code",
   "execution_count": 8,
   "metadata": {},
   "outputs": [
    {
     "name": "stdout",
     "output_type": "stream",
     "text": [
      "请输入数m：32\n",
      "请输入数n：24\n",
      "32和24的最大公约数为8，最小公倍数为96\n"
     ]
    }
   ],
   "source": [
    "# 题 3 调用\n",
    "m = int(input(\"请输入数m：\"))\n",
    "n = int(input(\"请输入数n：\"))\n",
    "gcd, lcm = gcd_lcm(m,n)\n",
    "print('{0}和{1}的最大公约数为{2}，最小公倍数为{3}'.format(m,n,gcd,lcm))\n",
    "\n"
   ]
  },
  {
   "cell_type": "markdown",
   "metadata": {},
   "source": [
    "#### 题 4：找出数据中的峰值（峰值是指该点比相联两个点都大的点所对应的的值）\n",
    "- 请完善代码"
   ]
  },
  {
   "cell_type": "code",
   "execution_count": 12,
   "metadata": {},
   "outputs": [],
   "source": [
    "def peak(time,list1,n=10):\n",
    "    \"\"\"\n",
    "    time,list1为时间与数据列表\n",
    "    要求输出所有峰值中，最大的前n个\n",
    "    如果峰值个数小于n，则取实际峰值个数\n",
    "    返回两个列表timepeak, listpeak，分别代表峰值点时间与峰值点值\n",
    "    并按照由大到小得顺序存放在列表之中\n",
    "    \"\"\"\n",
    "    pass\n",
    "    # 代码写于此\n",
    "    timepeak0=[]\n",
    "    listpeak0=[]\n",
    "    for i in range(1,len(time)-1):\n",
    "        if list1[i]>list1[i-1] and list1[i]>list1[i+1]:\n",
    "                listpeak0.append(list1[i])\n",
    "                timepeak0.append(time[i])\n",
    "    if len(listpeak0)>n:\n",
    "        listpeak1=sorted(listpeak0,reverse=True)\n",
    "        listpeak=listpeak1[0:n]\n",
    "        timepeak=[]\n",
    "        for j in range(len(listpeak)):\n",
    "            a=listpeak[j]\n",
    "            b=listpeak0.index(a)\n",
    "            c=timepeak0[b]\n",
    "            timepeak.append(c)\n",
    "            \n",
    "    return timepeak,listpeak\n",
    "            "
   ]
  },
  {
   "cell_type": "code",
   "execution_count": 13,
   "metadata": {},
   "outputs": [
    {
     "name": "stdout",
     "output_type": "stream",
     "text": [
      "[79, 926, 236, 769, 394, 612, 551, 454, 709, 296]\n",
      "[0.9956107995162955, 0.9816483014858157, 0.9646826949356034, 0.934320021702662, 0.9024155617760079, 0.8559287546852193, 0.813844755135664, 0.7535250323298427, 0.6995802956194219, 0.6277126983479341]\n"
     ]
    }
   ],
   "source": [
    "# 数据准备\n",
    "import math\n",
    "time = range(0,1000)\n",
    "list2 = []\n",
    "for each in time:\n",
    "    list2.append(math.sin(0.001*each*2*math.pi*3)*math.sin(5*0.02*each))\n",
    "\n",
    "timepeak,listpeak = peak(time,list2,10)\n",
    "print(timepeak)\n",
    "print(listpeak)"
   ]
  },
  {
   "cell_type": "code",
   "execution_count": 15,
   "metadata": {},
   "outputs": [
    {
     "data": {
      "image/png": "[encoded data removed]",
      "text/plain": [
       "<Figure size 432x288 with 1 Axes>"
      ]
     },
     "metadata": {
      "needs_background": "light"
     },
     "output_type": "display_data"
    }
   ],
   "source": [
    "#测试1\n",
    "# 数据准备\n",
    "import math\n",
    "time = range(0,1000)\n",
    "list2 = []\n",
    "for each in time:\n",
    "    list2.append(math.sin(0.001*each*2*math.pi*3)*math.sin(5*0.02*each))\n",
    "\n",
    "timepeak, listpeak = peak(time,list2,10)\n",
    "#peak(time,list2,10)\n",
    "\n",
    "#以下代码是绘图给同学们看看曲线啥样\n",
    "import matplotlib as mpl\n",
    "import matplotlib.pyplot as plt\n",
    "plt.plot(time,list2)\n",
    "plt.plot(timepeak, listpeak, 'ks')\n",
    "plt.grid()\n",
    "plt.show()\n"
   ]
  },
  {
   "cell_type": "markdown",
   "metadata": {},
   "source": [
    "#### 题 5：一段文字中找出所有的整数，并输出一个存放所有整数的列表\n",
    "- 函数名为 FindNumber(str1:str)->list"
   ]
  },
  {
   "cell_type": "code",
   "execution_count": 33,
   "metadata": {},
   "outputs": [],
   "source": [
    "def FindNumber(s:str)->list:\n",
    "    pass\n",
    "    # 代码写于此\n",
    "    list=[]\n",
    "    a=s.split()\n",
    "    for each in a:\n",
    "        if each.isdigit()==True:\n",
    "            list.append(int(each))\n",
    "    print(list)\n",
    "    "
   ]
  },
  {
   "cell_type": "code",
   "execution_count": 34,
   "metadata": {},
   "outputs": [
    {
     "name": "stdout",
     "output_type": "stream",
     "text": [
      "[100, 99]\n"
     ]
    }
   ],
   "source": [
    "teststr1 = \"I love tongji for 100 years. He loves tongji for 99 years.\"\n",
    "FindNumber(teststr1)"
   ]
  },
  {
   "cell_type": "markdown",
   "metadata": {},
   "source": [
    "## 结束"
   ]
  }
 ],
 "metadata": {
  "kernelspec": {
   "display_name": "Python 3 (ipykernel)",
   "language": "python",
   "name": "python3"
  },
  "language_info": {
   "codemirror_mode": {
    "name": "ipython",
    "version": 3
   },
   "file_extension": ".py",
   "mimetype": "text/x-python",
   "name": "python",
   "nbconvert_exporter": "python",
   "pygments_lexer": "ipython3",
   "version": "3.9.12"
  }
 },
 "nbformat": 4,
 "nbformat_minor": 2
}
