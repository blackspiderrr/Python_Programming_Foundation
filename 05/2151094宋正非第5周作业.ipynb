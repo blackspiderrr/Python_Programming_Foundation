{
 "cells": [
  {
   "cell_type": "markdown",
   "metadata": {},
   "source": [
    "### 作业01：\n",
    "要求：现有如下身份证号码和人名，请按照出生日期排序，并输出两列，左列为身份证号码，右列为姓名。"
   ]
  },
  {
   "cell_type": "code",
   "execution_count": 1,
   "metadata": {},
   "outputs": [],
   "source": [
    "id_number = ['31011019830615051X',\n",
    "            '320613197508252214',\n",
    "            '410512198907145562',\n",
    "            '531124200002295228',\n",
    "            '540189198801081392',\n",
    "            '641123199303177521',\n",
    "            '220193199207150812',\n",
    "            '231131199404182332',\n",
    "            '430131199505155115',\n",
    "            '460213199606015131']\n",
    "namelist = ['张无忌','韦小宝','杨过','郭靖','段誉','乔峰','虚竹','令狐冲','小龙女','赵敏']"
   ]
  },
  {
   "cell_type": "code",
   "execution_count": 3,
   "metadata": {},
   "outputs": [
    {
     "data": {
      "text/plain": [
       "['320613197508252214',\n",
       " '31011019830615051X',\n",
       " '540189198801081392',\n",
       " '410512198907145562',\n",
       " '220193199207150812',\n",
       " '641123199303177521',\n",
       " '231131199404182332',\n",
       " '430131199505155115',\n",
       " '460213199606015131',\n",
       " '531124200002295228']"
      ]
     },
     "execution_count": 3,
     "metadata": {},
     "output_type": "execute_result"
    }
   ],
   "source": [
    "#改进版本：\n",
    "sorted(id_number,key=lambda x:x[6:14])"
   ]
  },
  {
   "cell_type": "code",
   "execution_count": 22,
   "metadata": {},
   "outputs": [
    {
     "name": "stdout",
     "output_type": "stream",
     "text": [
      "540189198801081392 段誉\n",
      "531124200002295228 郭靖\n",
      "641123199303177521 乔峰\n",
      "231131199404182332 令狐冲\n",
      "430131199505155115 小龙女\n",
      "460213199606015131 赵敏\n",
      "31011019830615051X 张无忌\n",
      "410512198907145562 杨过\n",
      "220193199207150812 虚竹\n",
      "320613197508252214 韦小宝\n"
     ]
    }
   ],
   "source": [
    "# 代码完成与此\n",
    "a=[]\n",
    "for i in range(0,len(id_number)):\n",
    "    sfz=id_number[i]\n",
    "    date=sfz[10:14]\n",
    "    a.append(date)\n",
    "b=sorted(a)\n",
    "for j in range(0,len(b)):\n",
    "    c=a.index(b[j])\n",
    "    print(id_number[c],namelist[c])"
   ]
  },
  {
   "cell_type": "markdown",
   "metadata": {},
   "source": [
    "### 作业02：合并列表\n"
   ]
  },
  {
   "cell_type": "markdown",
   "metadata": {},
   "source": [
    "要求：\n",
    "- 给定两个有序列表（里面的数值和字符串，其中数值是按由小到大）\n",
    "- 要求将列表合并，并按照先数值由小到大的顺序排列，然后字符类型排在数值类型之后，也是有小到大排列\n",
    "\n"
   ]
  },
  {
   "cell_type": "code",
   "execution_count": 32,
   "metadata": {},
   "outputs": [],
   "source": [
    "list1 = [1, 3, 'z', 5, 'a', 7.3, 9]\n",
    "list2 = [2, 'bc', 4, 6.5, 8]\n",
    "# 代码完成与此\n"
   ]
  },
  {
   "cell_type": "code",
   "execution_count": 40,
   "metadata": {},
   "outputs": [
    {
     "name": "stdout",
     "output_type": "stream",
     "text": [
      "[1, 2, 3, 4, 5, 6.5, 7.3, 8, 9, 'a', 'bc', 'z']\n"
     ]
    }
   ],
   "source": [
    "# 提示使用isinstance函数\n",
    "a=[]\n",
    "for i in list1:\n",
    "    if isinstance(i,int):\n",
    "        a.append(i)\n",
    "    elif isinstance(i,float):\n",
    "        a.append(i)\n",
    "for j in list2:\n",
    "    if isinstance(j,int):\n",
    "        a.append(j)\n",
    "    elif isinstance(j,float):\n",
    "        a.append(j)\n",
    "a=sorted(a)\n",
    "b=[]\n",
    "for k in list1:\n",
    "    if isinstance(k,str):\n",
    "        b.append(k)\n",
    "for q in list2:\n",
    "    if isinstance(q,str):\n",
    "        b.append(q)\n",
    "b=sorted(b)\n",
    "c=a+b\n",
    "print(c)"
   ]
  },
  {
   "cell_type": "markdown",
   "metadata": {},
   "source": [
    "### 作业03：列表扁平化\n"
   ]
  },
  {
   "cell_type": "markdown",
   "metadata": {},
   "source": [
    "已有一个列表，有两层，请将其扁平化，如\n",
    "```python\n",
    "a = [[1,2],[3,4,5],[6,7],8,9]\n",
    "得到\n",
    "b = [1,2,3,4,5,6,7,8,9]\n",
    "```"
   ]
  },
  {
   "cell_type": "code",
   "execution_count": 2,
   "metadata": {},
   "outputs": [
    {
     "name": "stdout",
     "output_type": "stream",
     "text": [
      "[1, 2, 2.5, 3, 4, 5, 6, 7, 8, 9]\n"
     ]
    }
   ],
   "source": [
    "a = [[1,2],2.5,[3,4,5],[6,7],8,9]\n",
    "# 代码完成与此\n",
    "result=[]\n",
    "def takeout(list):\n",
    "    for item in list:\n",
    "        if isinstance(item,int):\n",
    "            result.append(item)\n",
    "        elif isinstance(item,float):\n",
    "            result.append(item)\n",
    "        else:\n",
    "            takeout(item)\n",
    "takeout(a)\n",
    "print(result)\n",
    "            "
   ]
  },
  {
   "cell_type": "markdown",
   "metadata": {},
   "source": [
    "### 作业04：数值型list，求其统计值（平均值和中位数）\n",
    "    "
   ]
  },
  {
   "cell_type": "code",
   "execution_count": 14,
   "metadata": {},
   "outputs": [
    {
     "name": "stdout",
     "output_type": "stream",
     "text": [
      "平均值 3.0 中位数 3.0\n"
     ]
    }
   ],
   "source": [
    "list0 = [1, 2, 4, 5]#[ 1, 4, 5, 2, 4, 3, 5, 100, 93]\n",
    "# 代码完成与此\n",
    "a=0\n",
    "b=len(list0)\n",
    "for i in range(0,b):\n",
    "    a+=list0[i]\n",
    "average=a/b\n",
    "list1=sorted(list0)\n",
    "if len(list0)%2!=0:\n",
    "    mid=list1[(b-1)//2]\n",
    "else:\n",
    "    mid=(list1[b//2]+list1[b//2-1])/2\n",
    "print('平均值',average,'中位数',mid)"
   ]
  },
  {
   "cell_type": "markdown",
   "metadata": {},
   "source": [
    "### 作业05：元组山形排序\n",
    "将一个元组的元素，按照中间大两边小的顺序排列，比如：  \n",
    "(1,2,3)，经过排序后变成(2,3,1)，其中两侧一样不一样大的时候，大的放在左侧；  \n",
    "(2,4,5,6)，排序后变成(4,6,5,2)  \n",
    "(1,2,3,2)，排序后变成(2,3,2,1)  \n",
    "    "
   ]
  },
  {
   "cell_type": "code",
   "execution_count": 2,
   "metadata": {},
   "outputs": [
    {
     "name": "stderr",
     "output_type": "stream",
     "text": [
      "ic| sort(tuple0): [1, 1, 2, 3, 4, 4, 5, 5, 6, 7]\n",
      "ic| reverse(tuple0): [7, 6, 5, 5, 4, 4, 3, 2, 1, 1]\n"
     ]
    },
    {
     "name": "stdout",
     "output_type": "stream",
     "text": [
      "(1, 3, 4, 5, 7, 6, 5, 4, 2, 1)\n"
     ]
    }
   ],
   "source": [
    "from icecream import ic\n",
    "tuple0 = (1,5,4,5,7,1,2,6,3,4)\n",
    "#代码如下：\n",
    "a=sorted(list((tuple0)))\n",
    "b=a[::-1]\n",
    "def sort(tuple):\n",
    "    return a\n",
    "c=len(list(tuple0))\n",
    "def reverse(tuple):\n",
    "    return b \n",
    "ic(sort(tuple0))\n",
    "ic(reverse(tuple0))\n",
    "mountain=[]\n",
    "for i in range(0,c):\n",
    "    if i%2!=0:\n",
    "        mountain.append(a[i])\n",
    "for i in range(0,c):\n",
    "    if c%2==0:\n",
    "        if i%2!=0:\n",
    "            mountain.append(b[i])\n",
    "    else:\n",
    "        if i%2==0:\n",
    "            mountain.append(b[i])\n",
    "print(tuple(mountain))"
   ]
  },
  {
   "cell_type": "code",
   "execution_count": null,
   "metadata": {},
   "outputs": [],
   "source": []
  }
 ],
 "metadata": {
  "kernelspec": {
   "display_name": "Python 3 (ipykernel)",
   "language": "python",
   "name": "python3"
  },
  "language_info": {
   "codemirror_mode": {
    "name": "ipython",
    "version": 3
   },
   "file_extension": ".py",
   "mimetype": "text/x-python",
   "name": "python",
   "nbconvert_exporter": "python",
   "pygments_lexer": "ipython3",
   "version": "3.9.12"
  }
 },
 "nbformat": 4,
 "nbformat_minor": 4
}
