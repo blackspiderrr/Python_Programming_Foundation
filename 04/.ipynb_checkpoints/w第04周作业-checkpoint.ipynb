{
 "cells": [
  {
   "cell_type": "markdown",
   "metadata": {},
   "source": [
    "## 第04周 作业"
   ]
  },
  {
   "cell_type": "markdown",
   "metadata": {},
   "source": [
    "### 第1题 三个整数的最大公约数与最小公倍数\n",
    "- 输入3个正整数，输出最大公因数与最小公倍数\n",
    "  \n"
   ]
  },
  {
   "cell_type": "code",
   "execution_count": 4,
   "metadata": {},
   "outputs": [],
   "source": [
    "# 请编写程序， 代码写在此处\n",
    "import math\n",
    "math.\n",
    "\n",
    "\n"
   ]
  },
  {
   "cell_type": "markdown",
   "metadata": {},
   "source": [
    "### 第2题  数字游戏\n",
    "- 有一种数字游戏，从任意正奇数开始，重复做以下运算：若为奇数，乘以3后加1；若为偶数，除以2。最后总可以得到数1。例如，奇数13运算转化的步骤为：\n",
    "13->40->20->10->5->16->8->4->2->1\n",
    "共进行了9步后完成。\n",
    "- 请设计程序,输入一个奇数m，输出转化为1所需的转化步数，并输出转化步骤。如输入13，则输出：  \n",
    "13->40->20->10->5->16->8->4->2->1   \n",
    "9"
   ]
  },
  {
   "cell_type": "code",
   "execution_count": 1,
   "metadata": {},
   "outputs": [],
   "source": [
    "# 代码完成在此处\n",
    "\n",
    "\n",
    "\n",
    "\n",
    "\n",
    "\n"
   ]
  },
  {
   "cell_type": "markdown",
   "metadata": {},
   "source": [
    "### 第3题  页码数字\n",
    "- 一本书的页数为N，页码从1开始编起，请你编程算出全部页码中，用了多少个数字X ?  \n",
    "- 输入一个总的页码数N和数字X（1 ≤ N ≤ 1000，0 ≤ X ≤ 9）。\n",
    "- 输出数字X的个数。\n",
    "- 如：  \n",
    "给定： 11    1  \n",
    "输出： 4"
   ]
  },
  {
   "cell_type": "code",
   "execution_count": 1,
   "metadata": {},
   "outputs": [],
   "source": [
    "# 代码完成在此处\n",
    "\n",
    "\n",
    "\n",
    "\n",
    "\n",
    "\n"
   ]
  },
  {
   "cell_type": "markdown",
   "metadata": {},
   "source": [
    "### 第4题  里程显示问题\n",
    "- 有一个卡车的里程表有问题，当数字从3变到4的时候，总是跳过4变到5；当数字从7变到8的时候，直接跳到数字9。\n",
    "- 即33577，下一个数字是33579；或者33399下一个数是33500。\n",
    "- 如果里程表显示是15，实际上只是走了12公里。\n",
    "- 问题，给定一个数（数中没有4与8），如mileage=12357,求车辆的实际里程realmailage"
   ]
  },
  {
   "cell_type": "code",
   "execution_count": 1,
   "metadata": {},
   "outputs": [],
   "source": [
    "# 代码完成在此处\n",
    "\n",
    "\n",
    "\n",
    "\n",
    "\n",
    "\n"
   ]
  },
  {
   "cell_type": "markdown",
   "metadata": {},
   "source": [
    "### 第5题  使用turtle绘制同济大学校徽/或者土木工程学院院徽（选作）\n",
    "- 学号单数，完成校徽\n",
    "- 学号双数，完成院徽"
   ]
  },
  {
   "cell_type": "code",
   "execution_count": null,
   "metadata": {},
   "outputs": [],
   "source": [
    "# 代码完成在此处\n",
    "import turtle\n"
   ]
  }
 ],
 "metadata": {
  "kernelspec": {
   "display_name": "Python 3 (ipykernel)",
   "language": "python",
   "name": "python3"
  },
  "language_info": {
   "codemirror_mode": {
    "name": "ipython",
    "version": 3
   },
   "file_extension": ".py",
   "mimetype": "text/x-python",
   "name": "python",
   "nbconvert_exporter": "python",
   "pygments_lexer": "ipython3",
   "version": "3.9.12"
  }
 },
 "nbformat": 4,
 "nbformat_minor": 4
}
